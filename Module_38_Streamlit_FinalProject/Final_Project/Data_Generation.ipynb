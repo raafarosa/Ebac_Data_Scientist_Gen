{
 "cells": [
  {
   "attachments": {},
   "cell_type": "markdown",
   "metadata": {},
   "source": [
    "# Projeto Credit Scoring para Cartão de Crédito \n",
    "\n",
    "Neste projeto, estamos construindo um credit scoring para cartão de crédito, em um desenho amostral com 15 safras, e utilizando 12 meses de performance.\n",
    "\n",
    "Carregue a base de dados ```credit_scoring.ftr```."
   ]
  },
  {
   "cell_type": "code",
   "execution_count": null,
   "metadata": {},
   "outputs": [],
   "source": [
    "import pandas as pd\n",
    "import numpy as np\n",
    "import matplotlib.pyplot as plt\n",
    "import seaborn as sns\n",
    "import statsmodels.formula.api as smf\n",
    "import statsmodels.api as sm\n",
    "import warnings\n",
    "\n",
    "from statsmodels.stats.outliers_influence import variance_inflation_factor as vif\n",
    "\n",
    "from sklearn import metrics\n",
    "from sklearn.metrics import roc_curve\n",
    "from sklearn.decomposition import PCA\n",
    "from sklearn.datasets import load_digits\n",
    "from sklearn.model_selection import train_test_split\n",
    "from sklearn.pipeline import Pipeline\n",
    "from sklearn.preprocessing import StandardScaler\n",
    "from sklearn.decomposition import PCA\n",
    "\n",
    "from pycaret.classification import *\n",
    "\n",
    "from scipy.stats import t, ks_2samp\n",
    "\n",
    "sns.set_palette('colorblind')\n",
    "\n",
    "%matplotlib inline"
   ]
  },
  {
   "cell_type": "markdown",
   "metadata": {},
   "source": [
    "---"
   ]
  },
  {
   "attachments": {},
   "cell_type": "markdown",
   "metadata": {},
   "source": [
    "#### Definição das Funções"
   ]
  },
  {
   "cell_type": "code",
   "execution_count": null,
   "metadata": {},
   "outputs": [],
   "source": [
    "def IV(variavel, resposta):\n",
    "    tab = pd.crosstab(variavel, resposta, margins=True, margins_name='total')\n",
    "\n",
    "    tilo_evento = tab.columns[0]\n",
    "    tilo_nao_evento = tab.columns[1]\n",
    "\n",
    "    tab['pct_evento'] = tab[tilo_evento]/tab.loc['total', tilo_evento]\n",
    "    tab['ep'] = tab[tilo_evento]/tab.loc['total', tilo_evento]\n",
    "\n",
    "    tab['pct_nao_evento'] = tab[tilo_nao_evento] / tab.loc['total', tilo_nao_evento]\n",
    "    tab['woe'] = np.log(tab.pct_evento/tab.pct_nao_evento)\n",
    "    tab['iv_parcial'] = (tab.pct_evento - tab.pct_nao_evento)*tab.woe\n",
    "    return tab['iv_parcial'].sum()"
   ]
  },
  {
   "cell_type": "code",
   "execution_count": null,
   "metadata": {},
   "outputs": [],
   "source": [
    "def biv_discreta(var, df):\n",
    "    df['bom'] = 1-df.mau\n",
    "    g = df.groupby(var)\n",
    "\n",
    "    biv = pd.DataFrame({'qt_bom': g['bom'].sum(),\n",
    "                        'qt_mau': g['mau'].sum(),\n",
    "                        'mau': g['mau'].mean(),\n",
    "                        var: g['mau'].mean().index,\n",
    "                        'cont': g[var].count()})\n",
    "\n",
    "    biv['ep'] = (biv.mau*(1-biv.mau)/biv.cont)**.5\n",
    "    biv['mau_sup'] = biv.mau+t.ppf([0.975], biv.cont-1)*biv.ep\n",
    "    biv['mau_inf'] = biv.mau+t.ppf([0.025], biv.cont-1)*biv.ep\n",
    "\n",
    "    biv['logit'] = np.log(biv.mau/(1-biv.mau))\n",
    "    biv['logit_sup'] = np.log(biv.mau_sup/(1-biv.mau_sup))\n",
    "    biv['logit_inf'] = np.log(biv.mau_inf/(1-biv.mau_inf))\n",
    "\n",
    "    tx_mau_geral = df.mau.mean()\n",
    "    woe_geral = np.log(df.mau.mean() / (1 - df.mau.mean()))\n",
    "\n",
    "    biv['woe'] = biv.logit - woe_geral\n",
    "    biv['woe_sup'] = biv.logit_sup - woe_geral\n",
    "    biv['woe_inf'] = biv.logit_inf - woe_geral\n",
    "\n",
    "    fig, ax = plt.subplots(2, 1, figsize=(8, 6))\n",
    "    ax[0].plot(biv[var], biv.woe, ':bo', label='woe')\n",
    "    ax[0].plot(biv[var], biv.woe_sup, 'o:r', label='limite superior')\n",
    "    ax[0].plot(biv[var], biv.woe_inf, 'o:r', label='limite inferior')\n",
    "\n",
    "    num_cat = biv.shape[0]\n",
    "    ax[0].set_xlim([-.3, num_cat-.7])\n",
    "\n",
    "    ax[0].set_ylabel(\"Weight of Evidence\")\n",
    "    ax[0].legend(bbox_to_anchor=(.83, 1.17), ncol=3)\n",
    "\n",
    "    ax[0].set_xticks(list(range(num_cat)))\n",
    "    ax[0].set_xticklabels(biv[var], rotation=8)\n",
    "\n",
    "    ax[1] = biv.cont.plot.bar()\n",
    "    return biv"
   ]
  },
  {
   "cell_type": "code",
   "execution_count": null,
   "metadata": {},
   "outputs": [],
   "source": [
    "def biv_continua(var, ncat, df):\n",
    "    df['bom'] = 1-df.mau\n",
    "    cat_srs, bins = pd.qcut(df[var], ncat, retbins=True, precision=0, duplicates='drop')\n",
    "    g = df.groupby(cat_srs)\n",
    "\n",
    "    biv = pd.DataFrame({'qt_bom': g['bom'].sum(),\n",
    "                        'qt_mau': g['mau'].sum(),\n",
    "                        'mau': g['mau'].mean(),\n",
    "                        var: g[var].mean(),\n",
    "                        'cont': g[var].count()})\n",
    "\n",
    "    biv['ep'] = (biv.mau*(1-biv.mau)/biv.cont)**.5\n",
    "    biv['mau_sup'] = biv.mau+t.ppf([0.975], biv.cont-1)*biv.ep\n",
    "    biv['mau_inf'] = biv.mau+t.ppf([0.025], biv.cont-1)*biv.ep\n",
    "\n",
    "    biv['logit'] = np.log(biv.mau/(1-biv.mau))\n",
    "    biv['logit_sup'] = np.log(biv.mau_sup/(1-biv.mau_sup))\n",
    "    biv['logit_inf'] = np.log(biv.mau_inf/(1-biv.mau_inf))\n",
    "\n",
    "    tx_mau_geral = df.mau.mean()\n",
    "    woe_geral = np.log(df.mau.mean() / (1 - df.mau.mean()))\n",
    "\n",
    "    biv['woe'] = biv.logit - woe_geral\n",
    "    biv['woe_sup'] = biv.logit_sup - woe_geral\n",
    "    biv['woe_inf'] = biv.logit_inf - woe_geral\n",
    "\n",
    "    fig, ax = plt.subplots(2, 1, figsize=(8, 6))\n",
    "    ax[0].plot(biv[var], biv.woe, ':bo', label='woe')\n",
    "    ax[0].plot(biv[var], biv.woe_sup, 'o:r', label='limite superior')\n",
    "    ax[0].plot(biv[var], biv.woe_inf, 'o:r', label='limite inferior')\n",
    "\n",
    "    num_cat = biv.shape[0]\n",
    "\n",
    "    ax[0].set_ylabel(\"Weight of Evidence\")\n",
    "    ax[0].legend(bbox_to_anchor=(.83, 1.17), ncol=3)\n",
    "\n",
    "    ax[1] = biv.cont.plot.bar()\n",
    "    return None"
   ]
  },
  {
   "cell_type": "code",
   "execution_count": null,
   "metadata": {},
   "outputs": [],
   "source": [
    "df = pd.read_feather('credit_scoring.ftr')\n",
    "df.head()"
   ]
  },
  {
   "cell_type": "markdown",
   "metadata": {},
   "source": [
    "---"
   ]
  },
  {
   "cell_type": "markdown",
   "metadata": {},
   "source": [
    "## Amostragem\n",
    "\n",
    "Separe os três últimos meses como safras de validação *out of time* (oot).\n",
    "\n",
    "Variáveis:<br>\n",
    "Considere que a variável ```data_ref``` não é uma variável explicativa, é somente uma variável indicadora da safra, e não deve ser utilizada na modelagem. A variávei ```index``` é um identificador do cliente, e também não deve ser utilizada como covariável (variável explicativa). As restantes podem ser utilizadas para prever a inadimplência, incluindo a renda.\n"
   ]
  },
  {
   "cell_type": "code",
   "execution_count": null,
   "metadata": {},
   "outputs": [],
   "source": [
    "' + '.join(list(df.columns))"
   ]
  },
  {
   "cell_type": "code",
   "execution_count": null,
   "metadata": {},
   "outputs": [],
   "source": [
    "print(df.data_ref.min())\n",
    "print(df.data_ref.max())"
   ]
  },
  {
   "attachments": {},
   "cell_type": "markdown",
   "metadata": {},
   "source": [
    "#### Separando base treino e teste"
   ]
  },
  {
   "cell_type": "code",
   "execution_count": null,
   "metadata": {},
   "outputs": [],
   "source": [
    "df.set_index('data_ref', inplace=True)\n",
    "df = df.drop('index', axis=1)\n",
    "\n",
    "df_train = df['2015-01-01':'2015-12-01']\n",
    "df_test = df['2016-01-01':]\n",
    "\n",
    "df_train.reset_index(inplace=True)\n",
    "df_test.reset_index(inplace=True)\n",
    "\n",
    "df_train['mes'] = df_train['data_ref'].dt.month\n",
    "warnings.filterwarnings('ignore')"
   ]
  },
  {
   "cell_type": "code",
   "execution_count": null,
   "metadata": {},
   "outputs": [],
   "source": [
    "df.head()"
   ]
  },
  {
   "cell_type": "markdown",
   "metadata": {},
   "source": [
    "---"
   ]
  },
  {
   "cell_type": "markdown",
   "metadata": {},
   "source": [
    "## Descritiva básica univariada\n",
    "\n",
    "- Descreva a base quanto ao número de linhas, número de linhas para cada mês em ```data_ref```.\n",
    "- Faça uma descritiva básica univariada de cada variável. Considere as naturezas diferentes: qualitativas e quantitativas."
   ]
  },
  {
   "cell_type": "code",
   "execution_count": null,
   "metadata": {},
   "outputs": [],
   "source": [
    "fig, ax = plt.subplots(figsize=(13, 7))\n",
    "sns.countplot(data=df_train, x='mes', palette='viridis', ax=ax)\n",
    "ax.set_title('Número de linhas para cada mês da base de treino')"
   ]
  },
  {
   "cell_type": "code",
   "execution_count": null,
   "metadata": {},
   "outputs": [],
   "source": [
    "fig, ax = plt.subplots(nrows=4, ncols=2, figsize=(15, 26))\n",
    "\n",
    "sns.countplot(data=df_train, x='sexo', palette='viridis', ax=ax[0, 0])\n",
    "ax[0, 0].set_title('Quantidade de clientes do sexo feminino e masculino')\n",
    "\n",
    "sns.countplot(data=df_train, x='posse_de_veiculo', palette='viridis', ax=ax[0, 1])\n",
    "ax[0, 1].set_title('Quantidade de clientes que possuem e não possuem veículo')\n",
    "\n",
    "sns.countplot(data=df_train, x='posse_de_imovel', palette='viridis', ax=ax[1, 0])\n",
    "ax[1, 0].set_title('Quantidade de clientes que possuem e não possuem imóvel')\n",
    "\n",
    "sns.countplot(data=df_train, x='mau', palette='viridis', ax=ax[1, 1])\n",
    "ax[1, 1].set_title('Quantidade de clientes que são e não são mau pagadores')\n",
    "\n",
    "sns.countplot(data=df_train, x='tipo_renda', palette='viridis', ax=ax[2, 0])\n",
    "ax[2, 0].set_title('Quantidade de clientes por tipo de renda')\n",
    "\n",
    "sns.countplot(data=df_train, x='educacao', palette='viridis', ax=ax[2, 1])\n",
    "ax[2, 1].set_title('Quantidade de clientes por educação')\n",
    "for tick in ax[2, 1].get_xticklabels():\n",
    "    tick.set_rotation(7)\n",
    "\n",
    "sns.countplot(data=df_train, x='estado_civil', palette='viridis', ax=ax[3, 0])\n",
    "ax[3, 0].set_title('Quantidade de clientes por estado civil')\n",
    "\n",
    "sns.countplot(data=df_train, x='tipo_residencia', palette='viridis', ax=ax[3, 1])\n",
    "ax[3, 1].set_title('Quantidade de clientes por tipo de residência')\n",
    "for tick in ax[3, 1].get_xticklabels():\n",
    "    tick.set_rotation(7)\n"
   ]
  },
  {
   "cell_type": "code",
   "execution_count": null,
   "metadata": {},
   "outputs": [],
   "source": [
    "fig, ax = plt.subplots(nrows=5, ncols=1, figsize=(13, 30))\n",
    "\n",
    "sns.countplot(data=df_train, x='qtd_filhos', palette='viridis', ax=ax[0])\n",
    "ax[0].set_title('Quantidade de clientes por quantidade de filhos')\n",
    "\n",
    "sns.countplot(data=df_train, x='qt_pessoas_residencia', palette='viridis', ax=ax[1])\n",
    "ax[1].set_title('Quantidade de clientes por quantidade de pessoas na residência')\n",
    "\n",
    "sns.countplot(data=df_train, x='idade', palette='viridis', ax=ax[2])\n",
    "ax[2].set_title('Quantidade de clientes por idade')\n",
    "\n",
    "sns.histplot(data=df_train, x='tempo_emprego', palette='dark', bins=50, ax=ax[3])\n",
    "ax[3].set_title('Quantidade de clientes por tempo de emprego')\n",
    "\n",
    "sns.histplot(data=df_train, x='renda', palette='dark', bins=50, ax=ax[4])\n",
    "ax[4].set_title('Quantidade de clientes por renda')\n"
   ]
  },
  {
   "cell_type": "markdown",
   "metadata": {},
   "source": [
    "---"
   ]
  },
  {
   "cell_type": "markdown",
   "metadata": {},
   "source": [
    "## Descritiva bivariada\n",
    "\n",
    "Faça uma análise descritiva bivariada de cada variável"
   ]
  },
  {
   "cell_type": "code",
   "execution_count": null,
   "metadata": {},
   "outputs": [],
   "source": [
    "fig, ax = plt.subplots(figsize=(13, 7))\n",
    "sns.lineplot(data=df_train, x='mes', y='mau', palette='viridis', ax=ax, marker='o')\n",
    "ax.set_title('Proporção de mau para cada mês da base de treino')\n",
    "ax.set_ylabel(\"Proporção de inadimplentes\")"
   ]
  },
  {
   "cell_type": "code",
   "execution_count": null,
   "metadata": {},
   "outputs": [],
   "source": [
    "fig, ax = plt.subplots(nrows=4, ncols=2, figsize=(15, 26))\n",
    "\n",
    "sns.lineplot(data=df_train, x='sexo', y='mau', palette='viridis', ax=ax[0, 0], marker='o')\n",
    "ax[0, 0].set_title('Proporção de mau para sexo feminino e masculino')\n",
    "ax[0, 0].set_ylabel(\"Proporção de inadimplentes\")\n",
    "\n",
    "sns.lineplot(data=df_train, x='posse_de_veiculo', y='mau', palette='viridis', ax=ax[0, 1], marker='o')\n",
    "ax[0, 1].set_title('Proporção de mau para clientes que possuem e não possuem veículo')\n",
    "ax[0, 1].set_ylabel(\"Proporção de inadimplentes\")\n",
    "\n",
    "sns.lineplot(data=df_train, x='posse_de_imovel', y='mau', palette='viridis', ax=ax[1, 0], marker='o')\n",
    "ax[1, 0].set_title('Proporção de mau para clientes que possuem e não possuem imóvel')\n",
    "ax[1, 0].set_ylabel(\"Proporção de inadimplentes\")\n",
    "\n",
    "ax[1, 1].axis('off')\n",
    "\n",
    "sns.lineplot(data=df_train, x='tipo_renda', y='mau', palette='viridis', ax=ax[2, 0], marker='o')\n",
    "ax[2, 0].set_title('Proporção de mau por tipo de renda')\n",
    "ax[2, 0].set_ylabel(\"Proporção de inadimplentes\")\n",
    "\n",
    "sns.lineplot(data=df_train, x='educacao', y='mau', palette='viridis', ax=ax[2, 1], marker='o')\n",
    "ax[2, 1].set_title('Proporção de mau por educação')\n",
    "ax[2, 1].set_ylabel(\"Proporção de inadimplentes\")\n",
    "for tick in ax[2, 1].get_xticklabels():\n",
    "    tick.set_rotation(7)\n",
    "\n",
    "sns.lineplot(data=df_train, x='estado_civil', y='mau', palette='viridis', ax=ax[3, 0], marker='o')\n",
    "ax[3, 0].set_title('Proporção de mau por estado civil')\n",
    "ax[3, 0].set_ylabel(\"Proporção de inadimplentes\")\n",
    "\n",
    "sns.lineplot(data=df_train, x='tipo_residencia', y='mau', palette='viridis', ax=ax[3, 1], marker='o')\n",
    "ax[3, 1].set_title('Proporção de mau por tipo de residência')\n",
    "ax[3, 1].set_ylabel(\"Proporção de inadimplentes\")\n",
    "for tick in ax[3, 1].get_xticklabels():\n",
    "    tick.set_rotation(7)"
   ]
  },
  {
   "cell_type": "code",
   "execution_count": null,
   "metadata": {},
   "outputs": [],
   "source": [
    "fig, ax = plt.subplots(nrows=2, ncols=1, figsize=(13, 10))\n",
    "\n",
    "sns.lineplot(data=df_train, x='qtd_filhos', y='mau', palette='viridis', ax=ax[0], marker='o')\n",
    "ax[0].set_title('Proporção de mau por quantidade de filhos')\n",
    "ax[0].set_ylabel(\"Proporção de inadimplentes\")\n",
    "\n",
    "sns.lineplot(data=df_train, x='qt_pessoas_residencia', y='mau', palette='viridis', ax=ax[1], marker='o')\n",
    "ax[1].set_title('Proporção de mau por quantidade de pessoas na residência')\n",
    "ax[1].set_ylabel(\"Proporção de inadimplentes\")"
   ]
  },
  {
   "cell_type": "code",
   "execution_count": null,
   "metadata": {},
   "outputs": [],
   "source": [
    "fig, ax = plt.subplots(figsize=(13, 7))\n",
    "\n",
    "cat_1, bins = pd.qcut(df_train['renda'], 15, retbins=True)\n",
    "df_1 = df_train.groupby(cat_1)\n",
    "biv = df_1['mau'].mean()\n",
    "\n",
    "ax = biv.plot.line(marker='o')\n",
    "ax.set_ylabel(\"Proporção de inadimplentes\")\n",
    "ticks = plt.xticks(range(len(biv.index.values)), biv.index.values, rotation=90)\n",
    "ax.set_title('Proporção de mau para intervalos de renda')"
   ]
  },
  {
   "cell_type": "markdown",
   "metadata": {},
   "source": [
    "---"
   ]
  },
  {
   "cell_type": "markdown",
   "metadata": {},
   "source": [
    "## Desenvolvimento do modelo\n",
    "\n",
    "Desenvolva um modelo de *credit scoring* através de uma regressão logística.\n",
    "\n",
    "- Trate valores missings e outliers\n",
    "- Trate 'zeros estruturais'\n",
    "- Faça agrupamentos de categorias conforme vimos em aula\n",
    "- Proponha uma equação preditiva para 'mau'\n",
    "- Caso hajam categorias não significantes, justifique"
   ]
  },
  {
   "cell_type": "code",
   "execution_count": null,
   "metadata": {},
   "outputs": [],
   "source": [
    "df_train['mau'] = df_train.mau.astype('int64')\n",
    "df_train.drop(columns=['data_ref', 'mes'], inplace=True)\n",
    "df_train.info()"
   ]
  },
  {
   "attachments": {},
   "cell_type": "markdown",
   "metadata": {},
   "source": [
    "#### Missings de Tempo de Emprego - Substituindo pela média"
   ]
  },
  {
   "cell_type": "code",
   "execution_count": null,
   "metadata": {},
   "outputs": [],
   "source": [
    "df_train['tempo_emprego'].fillna(value=df_train['tempo_emprego'].mean(), inplace=True)"
   ]
  },
  {
   "attachments": {},
   "cell_type": "markdown",
   "metadata": {},
   "source": [
    "#### Metadados"
   ]
  },
  {
   "cell_type": "code",
   "execution_count": null,
   "metadata": {},
   "outputs": [],
   "source": [
    "metadados = pd.DataFrame(df_train.dtypes, columns=['dtype'])\n",
    "metadados['nmissing'] = df_train.isna().sum()\n",
    "metadados['valores_unicos'] = df_train.nunique()\n",
    "metadados['papel'] = 'covariavel'\n",
    "metadados.loc['mau', 'papel'] = 'resposta'\n",
    "metadados"
   ]
  },
  {
   "cell_type": "code",
   "execution_count": null,
   "metadata": {},
   "outputs": [],
   "source": [
    "for var in metadados[metadados.papel == 'covariavel'].index:\n",
    "    if (metadados.loc[var, 'valores_unicos'] > 10):\n",
    "        metadados.loc[var, 'IV'] = IV(pd.qcut(df_train[var], 5, duplicates='drop'), df_train.mau)\n",
    "    else:\n",
    "        metadados.loc[var, 'IV'] = IV(df_train[var], df_train.mau)\n",
    "\n",
    "metadados"
   ]
  },
  {
   "cell_type": "code",
   "execution_count": null,
   "metadata": {},
   "outputs": [],
   "source": [
    "biv_discreta('sexo', df_train)"
   ]
  },
  {
   "cell_type": "code",
   "execution_count": null,
   "metadata": {},
   "outputs": [],
   "source": [
    "biv_discreta('posse_de_veiculo', df_train)"
   ]
  },
  {
   "cell_type": "code",
   "execution_count": null,
   "metadata": {},
   "outputs": [],
   "source": [
    "biv_discreta('posse_de_imovel', df_train)"
   ]
  },
  {
   "cell_type": "code",
   "execution_count": null,
   "metadata": {},
   "outputs": [],
   "source": [
    "biv_discreta('qtd_filhos', df_train)"
   ]
  },
  {
   "cell_type": "code",
   "execution_count": null,
   "metadata": {},
   "outputs": [],
   "source": [
    "biv_discreta('tipo_renda', df_train)"
   ]
  },
  {
   "cell_type": "code",
   "execution_count": null,
   "metadata": {},
   "outputs": [],
   "source": [
    "# Agrupando as classes da variável tipo de renda\n",
    "\n",
    "df_train.tipo_renda.replace(\n",
    "    {'Assalariado': 'Assalariado/Bolsista',\n",
    "     'Bolsista': 'Assalariado/Bolsista'}, inplace=True)\n",
    "\n",
    "biv_discreta('tipo_renda', df_train)\n",
    "IV(df_train.tipo_renda, df_train.mau)"
   ]
  },
  {
   "cell_type": "code",
   "execution_count": null,
   "metadata": {},
   "outputs": [],
   "source": [
    "biv_discreta('educacao', df_train)"
   ]
  },
  {
   "cell_type": "code",
   "execution_count": null,
   "metadata": {},
   "outputs": [],
   "source": [
    "# Agrupando as classes da variável educacao\n",
    "\n",
    "df_train.educacao.replace(\n",
    "    {'Fundamental': 'Fund/Médio/Sup Incomp',\n",
    "     'Médio': 'Fund/Médio/Sup Incomp',\n",
    "     'Superior incompleto': 'Fund/Médio/Sup Incomp',\n",
    "     'Superior completo': 'Sup Comp/Pós',\n",
    "     'Pós graduação': 'Sup Comp/Pós'}, inplace=True)\n",
    "\n",
    "biv_discreta('educacao', df_train)\n",
    "IV(df_train.educacao, df_train.mau)"
   ]
  },
  {
   "cell_type": "code",
   "execution_count": null,
   "metadata": {},
   "outputs": [],
   "source": [
    "biv_continua('tempo_emprego', 15, df_train)"
   ]
  },
  {
   "cell_type": "code",
   "execution_count": null,
   "metadata": {},
   "outputs": [],
   "source": [
    "biv_continua('renda', 15, df_train)"
   ]
  },
  {
   "cell_type": "code",
   "execution_count": null,
   "metadata": {},
   "outputs": [],
   "source": [
    "' + '.join(list(metadados.sort_values(by='IV', ascending=False).index))"
   ]
  },
  {
   "cell_type": "code",
   "execution_count": null,
   "metadata": {},
   "outputs": [],
   "source": [
    "formula = '''\n",
    "    mau ~ sexo + posse_de_veiculo + posse_de_imovel + qtd_filhos + tipo_renda + \n",
    "    educacao + estado_civil + tipo_residencia + idade + tempo_emprego +\n",
    "    renda\n",
    "'''\n",
    "\n",
    "rl = smf.glm(formula, data=df_train, family=sm.families.Binomial()).fit()\n",
    "\n",
    "rl.summary()"
   ]
  },
  {
   "cell_type": "code",
   "execution_count": null,
   "metadata": {},
   "outputs": [],
   "source": [
    "formula = '''\n",
    "    mau ~ sexo + posse_de_imovel + educacao +\n",
    "    tempo_emprego + renda\n",
    "'''\n",
    "\n",
    "rl = smf.glm(formula, data=df_train, family=sm.families.Binomial()).fit()\n",
    "\n",
    "rl.summary()"
   ]
  },
  {
   "cell_type": "markdown",
   "metadata": {},
   "source": [
    "---"
   ]
  },
  {
   "cell_type": "markdown",
   "metadata": {},
   "source": [
    "## Avaliação do modelo\n",
    "\n",
    "Avalie o poder discriminante do modelo pelo menos avaliando acurácia, KS e Gini.\n",
    "\n",
    "Avalie estas métricas nas bases de desenvolvimento e *out of time*."
   ]
  },
  {
   "cell_type": "code",
   "execution_count": null,
   "metadata": {},
   "outputs": [],
   "source": [
    "df_train['score'] = rl.predict(df_train)\n",
    "\n",
    "# Acurácia\n",
    "acc = metrics.accuracy_score(df_train.mau, df_train.score > .068)\n",
    "\n",
    "# AUC\n",
    "fpr, tpr, thresholds = metrics.roc_curve(df_train.mau, df_train.score)\n",
    "auc = metrics.auc(fpr, tpr)\n",
    "\n",
    "# Gini\n",
    "gini = 2*auc - 1\n",
    "ks = ks_2samp(df_train.loc[df_train.mau == 1, 'score'],\n",
    "              df_train.loc[df_train.mau != 1, 'score']).statistic\n",
    "\n",
    "print('Acurácia: {0:.1%} \\nAUC: {1:.1%} \\nGINI: {2:.1%}\\nKS: {3:.1%}'.format(acc, auc, gini, ks))"
   ]
  },
  {
   "cell_type": "code",
   "execution_count": null,
   "metadata": {},
   "outputs": [],
   "source": [
    "fpr, tpr, thresholds = metrics.roc_curve(df_train['mau'], df_train['score'])\n",
    "\n",
    "plt.figure()\n",
    "lw = 2\n",
    "\n",
    "fpr, tpr, thresholds = metrics.roc_curve(df_train['mau'], df_train['score'])\n",
    "auc_ = metrics.auc(fpr, tpr)\n",
    "plt.plot(fpr, tpr, color='darkorange', lw=lw, label='ROC curve (area = %0.2f)' % auc_)\n",
    "plt.plot([0, 1], [0, 1], color='navy', lw=lw, linestyle='--')\n",
    "plt.xlim([0.0, 1.0])\n",
    "plt.ylim([0.0, 1.05])\n",
    "plt.xlabel('False Positive Rate')\n",
    "plt.ylabel('True Positive Rate')\n",
    "plt.title('ROC curve')\n",
    "plt.legend(loc=\"lower right\")\n",
    "plt.show()"
   ]
  },
  {
   "cell_type": "code",
   "execution_count": null,
   "metadata": {},
   "outputs": [],
   "source": [
    "fig = plt.figure()\n",
    "ax = fig.add_subplot(1, 1, 1)\n",
    "\n",
    "score_pop1 = df_train.loc[df_train['mau'] == 1, 'score']\n",
    "ax.plot(np.sort(score_pop1), np.linspace(0, 1, len(score_pop1), endpoint=False), label='Mau')\n",
    "\n",
    "score_pop2 = df_train.loc[df_train['mau'] != 1, 'score']\n",
    "ax.plot(np.sort(score_pop2), np.linspace(0, 1, len(score_pop2), endpoint=False), label='Bom')\n",
    "ax.legend()\n",
    "\n",
    "ax.set_xlabel('P')\n",
    "ax.set_ylabel('Função Distribuição Acumulada')"
   ]
  },
  {
   "attachments": {},
   "cell_type": "markdown",
   "metadata": {},
   "source": [
    "#### Base Out of time"
   ]
  },
  {
   "cell_type": "code",
   "execution_count": null,
   "metadata": {},
   "outputs": [],
   "source": [
    "df_test['tempo_emprego'].fillna(value=df_test['tempo_emprego'].mean(), inplace=True)"
   ]
  },
  {
   "cell_type": "code",
   "execution_count": null,
   "metadata": {},
   "outputs": [],
   "source": [
    "df_test.educacao.replace(\n",
    "    {'Fundamental': 'Fund/Médio/Sup Incomp',\n",
    "     'Médio': 'Fund/Médio/Sup Incomp',\n",
    "     'Superior incompleto': 'Fund/Médio/Sup Incomp',\n",
    "     'Superior completo': 'Sup Comp/Pós',\n",
    "     'Pós graduação': 'Sup Comp/Pós'}, inplace=True)"
   ]
  },
  {
   "cell_type": "code",
   "execution_count": null,
   "metadata": {},
   "outputs": [],
   "source": [
    "df_test['score'] = rl.predict(df_test)\n",
    "\n",
    "# Acurácia\n",
    "acc = metrics.accuracy_score(df_test.mau, df_test.score > .068)\n",
    "\n",
    "# AUC\n",
    "fpr, tpr, thresholds = metrics.roc_curve(df_test.mau, df_test.score)\n",
    "auc = metrics.auc(fpr, tpr)\n",
    "\n",
    "# Gini\n",
    "gini = 2*auc - 1\n",
    "ks = ks_2samp(df_test.loc[df_test.mau == 1, 'score'],\n",
    "              df_test.loc[df_test.mau != 1, 'score']).statistic\n",
    "\n",
    "print('Acurácia: {0:.1%} \\nAUC: {1:.1%} \\nGINI: {2:.1%}\\nKS: {3:.1%}'.format(acc, auc, gini, ks))"
   ]
  },
  {
   "cell_type": "code",
   "execution_count": null,
   "metadata": {},
   "outputs": [],
   "source": [
    "fpr, tpr, thresholds = metrics.roc_curve(df_test['mau'], df_test['score'])\n",
    "\n",
    "plt.figure()\n",
    "lw = 2\n",
    "\n",
    "fpr, tpr, thresholds = metrics.roc_curve(df_test['mau'], df_test['score'])\n",
    "auc_ = metrics.auc(fpr, tpr)\n",
    "plt.plot(fpr, tpr, color='darkorange',\n",
    "         lw=lw, label='ROC curve (area = %0.2f)' % auc_)\n",
    "plt.plot([0, 1], [0, 1], color='navy', lw=lw, linestyle='--')\n",
    "plt.xlim([0.0, 1.0])\n",
    "plt.ylim([0.0, 1.05])\n",
    "plt.xlabel('False Positive Rate')\n",
    "plt.ylabel('True Positive Rate')\n",
    "plt.title('ROC curve')\n",
    "plt.legend(loc=\"lower right\")\n",
    "plt.show()"
   ]
  },
  {
   "cell_type": "code",
   "execution_count": null,
   "metadata": {},
   "outputs": [],
   "source": [
    "fig = plt.figure()\n",
    "ax = fig.add_subplot(1, 1, 1)\n",
    "\n",
    "score_pop1 = df_test.loc[df_test['mau'] == 1, 'score']\n",
    "ax.plot(np.sort(score_pop1), np.linspace(0, 1, len(score_pop1), endpoint=False), label='Mau')\n",
    "\n",
    "score_pop2 = df_test.loc[df_test['mau'] != 1, 'score']\n",
    "ax.plot(np.sort(score_pop2), np.linspace(0, 1, len(score_pop2), endpoint=False), label='Bom')\n",
    "ax.legend()\n",
    "\n",
    "ax.set_xlabel('P')\n",
    "ax.set_ylabel('Função Distribuição Acumulada')"
   ]
  },
  {
   "cell_type": "markdown",
   "metadata": {},
   "source": [
    "---"
   ]
  },
  {
   "cell_type": "markdown",
   "metadata": {},
   "source": [
    "## Criar um pipeline utilizando o sklearn pipeline "
   ]
  },
  {
   "cell_type": "markdown",
   "metadata": {},
   "source": [
    "## Pré processamento"
   ]
  },
  {
   "cell_type": "markdown",
   "metadata": {},
   "source": [
    "### Substituição de nulos (nans)\n",
    "\n",
    "Existe nulos na base? é dado numérico ou categórico? qual o valor de substituição? média? valor mais frequente? etc"
   ]
  },
  {
   "cell_type": "code",
   "execution_count": null,
   "metadata": {},
   "outputs": [],
   "source": [
    "df.isnull().sum()"
   ]
  },
  {
   "cell_type": "code",
   "execution_count": null,
   "metadata": {},
   "outputs": [],
   "source": [
    "df['tempo_emprego'] = df['tempo_emprego'].fillna(df['tempo_emprego'].median())"
   ]
  },
  {
   "cell_type": "markdown",
   "metadata": {},
   "source": [
    "### Remoção de outliers\n",
    "\n",
    "Como identificar outlier? Substituir o outlier por algum valor? Remover a linha?"
   ]
  },
  {
   "cell_type": "code",
   "execution_count": null,
   "metadata": {},
   "outputs": [],
   "source": [
    "sns.regplot(y='renda', x='tempo_emprego', data=df)"
   ]
  },
  {
   "cell_type": "markdown",
   "metadata": {},
   "source": [
    "### Seleção de variáveis\n",
    "\n",
    "Qual tipo de técnica? Boruta? Feature importance? "
   ]
  },
  {
   "cell_type": "code",
   "execution_count": null,
   "metadata": {},
   "outputs": [],
   "source": [
    "variaveis = ['renda', 'posse_de_imovel', 'idade', 'tempo_emprego', 'qt_pessoas_residencia']"
   ]
  },
  {
   "cell_type": "code",
   "execution_count": null,
   "metadata": {},
   "outputs": [],
   "source": [
    "dataset = df.sample(400)"
   ]
  },
  {
   "cell_type": "code",
   "execution_count": null,
   "metadata": {},
   "outputs": [],
   "source": [
    "exp_aula = setup(data=dataset,\n",
    "                 target='mau',\n",
    "                 experiment_name='credit_1',\n",
    "                 normalize=True,\n",
    "                 normalize_method='zscore',\n",
    "                 transformation=True,\n",
    "                 transformation_method='quantile',\n",
    "                 fix_imbalance=True,\n",
    "                 index=False)\n"
   ]
  },
  {
   "cell_type": "code",
   "execution_count": null,
   "metadata": {},
   "outputs": [],
   "source": [
    "best_model = compare_models(fold=4, sort='AUC')"
   ]
  },
  {
   "cell_type": "code",
   "execution_count": null,
   "metadata": {},
   "outputs": [],
   "source": [
    "plot_model(best_model, plot='feature')"
   ]
  },
  {
   "cell_type": "code",
   "execution_count": null,
   "metadata": {},
   "outputs": [],
   "source": [
    "save_model(best_model,'model_march_2024')"
   ]
  },
  {
   "cell_type": "markdown",
   "metadata": {},
   "source": [
    "---"
   ]
  },
  {
   "cell_type": "markdown",
   "metadata": {},
   "source": [
    "### Criação de dummies\n",
    "\n",
    "Aplicar o get_dummies() ou onehotencoder() para transformar colunas catégoricas do dataframe em colunas de 0 e 1. \n",
    "- sexo\n",
    "- posse_de_veiculo\n",
    "- posse_de_imovel\n",
    "- tipo_renda\n",
    "- educacao\n",
    "- estado_civil\n",
    "- tipo_residencia"
   ]
  },
  {
   "cell_type": "code",
   "execution_count": null,
   "metadata": {},
   "outputs": [],
   "source": [
    "df1 = pd.get_dummies(dataset, columns=[\n",
    "    'tipo_residencia',\n",
    "    'estado_civil',\n",
    "    'educacao',\n",
    "    'tipo_renda',\n",
    "    'posse_de_imovel',\n",
    "    'posse_de_veiculo',\n",
    "    'sexo'\n",
    "], drop_first=True)\n",
    "\n",
    "df1.head()"
   ]
  },
  {
   "cell_type": "markdown",
   "metadata": {},
   "source": [
    "---"
   ]
  },
  {
   "cell_type": "markdown",
   "metadata": {},
   "source": [
    "# Pycaret na base de dados \n",
    "\n",
    "Utilize o pycaret para pre processar os dados e rodar o modelo **lightgbm**. Faça todos os passos a passos da aula e gere os gráficos finais. E o pipeline de toda a transformação.\n",
    "\n"
   ]
  },
  {
   "cell_type": "code",
   "execution_count": null,
   "metadata": {},
   "outputs": [],
   "source": [
    "dataset = df.sample(400)"
   ]
  },
  {
   "cell_type": "code",
   "execution_count": null,
   "metadata": {},
   "outputs": [],
   "source": [
    "data = dataset.sample(frac=0.95, random_state=786)\n",
    "data_unseen = dataset.drop(data.index)\n",
    "data.reset_index(inplace=True, drop=True)\n",
    "data_unseen.reset_index(inplace=True, drop=True)\n",
    "print('Conjunto de dados para modelagem (treino e teste): ' + str(data.shape))\n",
    "print('Conjunto de dados não usados no treino/teste, apenas como validação: ' + str(data_unseen.shape))"
   ]
  },
  {
   "cell_type": "code",
   "execution_count": null,
   "metadata": {},
   "outputs": [],
   "source": [
    "best_model = compare_models(fold=5, sort='Accuracy')"
   ]
  },
  {
   "cell_type": "code",
   "execution_count": null,
   "metadata": {},
   "outputs": [],
   "source": [
    "print(best_model)"
   ]
  },
  {
   "cell_type": "code",
   "execution_count": null,
   "metadata": {},
   "outputs": [],
   "source": [
    "modelo_et = create_model('et')"
   ]
  },
  {
   "cell_type": "code",
   "execution_count": null,
   "metadata": {},
   "outputs": [],
   "source": [
    "plot_model(modelo_et, plot='auc')"
   ]
  },
  {
   "cell_type": "code",
   "execution_count": null,
   "metadata": {},
   "outputs": [],
   "source": [
    "plot_model(modelo_et, plot='pr')"
   ]
  },
  {
   "cell_type": "code",
   "execution_count": null,
   "metadata": {},
   "outputs": [],
   "source": [
    "plot_model(modelo_et, plot='feature')"
   ]
  },
  {
   "cell_type": "code",
   "execution_count": null,
   "metadata": {},
   "outputs": [],
   "source": [
    "plot_model(modelo_et, plot = 'confusion_matrix')"
   ]
  },
  {
   "cell_type": "code",
   "execution_count": null,
   "metadata": {},
   "outputs": [],
   "source": [
    "tuned_modelo_et = tune_model(modelo_et)"
   ]
  },
  {
   "cell_type": "code",
   "execution_count": null,
   "metadata": {},
   "outputs": [],
   "source": [
    "plot_model(tuned_modelo_et, plot='auc')"
   ]
  },
  {
   "cell_type": "code",
   "execution_count": null,
   "metadata": {},
   "outputs": [],
   "source": [
    "plot_model(tuned_modelo_et, plot='pr')"
   ]
  },
  {
   "cell_type": "code",
   "execution_count": null,
   "metadata": {},
   "outputs": [],
   "source": [
    "plot_model(tuned_modelo_et, plot='feature')"
   ]
  },
  {
   "cell_type": "code",
   "execution_count": null,
   "metadata": {},
   "outputs": [],
   "source": [
    "plot_model(tuned_modelo_et, plot='confusion_matrix')"
   ]
  },
  {
   "cell_type": "code",
   "execution_count": null,
   "metadata": {},
   "outputs": [],
   "source": [
    "evaluate_model(tuned_modelo_et)"
   ]
  },
  {
   "cell_type": "code",
   "execution_count": null,
   "metadata": {},
   "outputs": [],
   "source": [
    "predict_model(tuned_modelo_et)"
   ]
  },
  {
   "cell_type": "code",
   "execution_count": null,
   "metadata": {},
   "outputs": [],
   "source": [
    "final_modelo_et = finalize_model(tuned_modelo_et)"
   ]
  },
  {
   "cell_type": "code",
   "execution_count": null,
   "metadata": {},
   "outputs": [],
   "source": [
    "formula = '''\n",
    "    mau ~  + qtd_filhos + idade + tempo_emprego +  \n",
    "    qt_pessoas_residencia\n",
    "'''\n",
    "\n",
    "rl = smf.glm(formula, data=data, family=sm.families.Binomial()).fit()\n",
    "\n",
    "rl.summary()"
   ]
  },
  {
   "cell_type": "code",
   "execution_count": null,
   "metadata": {},
   "outputs": [],
   "source": [
    "metadados.sort_values(by='IV', ascending=False)"
   ]
  },
  {
   "cell_type": "markdown",
   "metadata": {},
   "source": [
    "---"
   ]
  },
  {
   "cell_type": "markdown",
   "metadata": {},
   "source": [
    "### Salvar o arquivo do modelo treinado"
   ]
  },
  {
   "cell_type": "code",
   "execution_count": null,
   "metadata": {},
   "outputs": [],
   "source": [
    "save_model(final_modelo_et,'Final_model_march_2024')"
   ]
  },
  {
   "cell_type": "code",
   "execution_count": null,
   "metadata": {},
   "outputs": [],
   "source": [
    "model_saved = load_model('Final_model_march_2024')"
   ]
  },
  {
   "cell_type": "code",
   "execution_count": null,
   "metadata": {},
   "outputs": [],
   "source": [
    "model_saved.named_steps"
   ]
  },
  {
   "cell_type": "markdown",
   "metadata": {},
   "source": [
    "---"
   ]
  }
 ],
 "metadata": {
  "kernelspec": {
   "display_name": "Python 3.8.0 ('ebac-cientista-dados-projeto-final-XYDZBzTb')",
   "language": "python",
   "name": "python3"
  },
  "language_info": {
   "codemirror_mode": {
    "name": "ipython",
    "version": 3
   },
   "file_extension": ".py",
   "mimetype": "text/x-python",
   "name": "python",
   "nbconvert_exporter": "python",
   "pygments_lexer": "ipython3",
   "version": "3.11.8"
  },
  "toc": {
   "base_numbering": 1,
   "nav_menu": {},
   "number_sections": false,
   "sideBar": true,
   "skip_h1_title": true,
   "title_cell": "Índice",
   "title_sidebar": "Conteúdo",
   "toc_cell": false,
   "toc_position": {},
   "toc_section_display": true,
   "toc_window_display": false
  },
  "varInspector": {
   "cols": {
    "lenName": 16,
    "lenType": 16,
    "lenVar": 40
   },
   "kernels_config": {
    "python": {
     "delete_cmd_postfix": "",
     "delete_cmd_prefix": "del ",
     "library": "var_list.py",
     "varRefreshCmd": "print(var_dic_list())"
    },
    "r": {
     "delete_cmd_postfix": ") ",
     "delete_cmd_prefix": "rm(",
     "library": "var_list.r",
     "varRefreshCmd": "cat(var_dic_list()) "
    }
   },
   "types_to_exclude": [
    "module",
    "function",
    "builtin_function_or_method",
    "instance",
    "_Feature"
   ],
   "window_display": false
  },
  "vscode": {
   "interpreter": {
    "hash": "4b6c057df74f3e995b2e0f3bfb840a644d70df44b5b7a8f2d9f755511bbf6aef"
   }
  }
 },
 "nbformat": 4,
 "nbformat_minor": 4
}
