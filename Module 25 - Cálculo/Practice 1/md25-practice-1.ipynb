{
 "cells": [
  {
   "cell_type": "markdown",
   "metadata": {},
   "source": [
    "# Cálculo - Tarefa 01"
   ]
  },
  {
   "cell_type": "markdown",
   "metadata": {},
   "source": [
    "___"
   ]
  },
  {
   "cell_type": "markdown",
   "metadata": {},
   "source": [
    "### 1. Marque quais desses métodos/algoritmos muito populares em ciência de dados são baseados no uso de derivada:\n",
    "\n",
    "    1. Método Mínimos Quadrados\n",
    "    2. Gradiente descendente\n",
    "    3. Newton Raphson\n",
    "    4. CART (Árvore de decisão)"
   ]
  },
  {
   "cell_type": "markdown",
   "metadata": {},
   "source": [
    "Entre os métodos/algoritmos mencionados, o **Gradiente Descendente** e o **Newton-Raphson** são os que se apoiam no uso de derivadas em seu funcionamento.\n",
    "\n",
    "1. O **Método dos Mínimos Quadrados** não depende do uso de derivadas. Ele é uma abordagem para ajustar modelos de regressão, visando minimizar a soma dos quadrados dos resíduos, sem recorrer aos cálculos derivativos.\n",
    "\n",
    "2. O **Gradiente Descendente** é um algoritmo de otimização que emprega o gradiente, com suas derivadas parciais, para localizar o mínimo de uma função. É comumente aplicado em problemas de aprendizado de máquina e otimização.\n",
    "\n",
    "3. O **Newton-Raphson** se baseia na utilização de derivadas para se aproximar das raízes de uma função. Ele é amplamente utilizado em problemas de otimização e na estimação de parâmetros.\n",
    "\n",
    "4. **CART (Árvore de Decisão)** não se baseia no uso de derivadas. Em vez disso, utiliza critérios que avaliam a pureza das classes ou a redução do erro durante a construção da árvore de decisão."
   ]
  },
  {
   "cell_type": "markdown",
   "metadata": {},
   "source": [
    "---"
   ]
  },
  {
   "cell_type": "markdown",
   "metadata": {},
   "source": [
    "### 2. Dada uma base de dados com uma variável resposta $y$ e um conjunto de variáveis explicativas. Considere uma estrutura de um modelo de regressão. Explique com suas palavras por que não é possível obter parâmetros que forneçam um erro quadrático médio (EQM) menor que o obtido com estimadores de mínimos quadrados."
   ]
  },
  {
   "cell_type": "markdown",
   "metadata": {},
   "source": [
    "Ao empregar um modelo de regressão para prever a variável resposta com base nas variáveis explicativas, utilizando estimadores de mínimos quadrados, o objetivo é minimizar o erro quadrático médio (EQM), alcançando assim a maior precisão possível. Logo, é válido afirmar que sem esses estimadores de mínimos quadrados, não se poderia obter parâmetros que resultassem em um EQM menor. Isso se deve ao fato de que tentativas de forçar o ajuste dos parâmetros poderiam levar a um sobreajuste (*overfitting*) do modelo aos dados, resultando em previsões menos precisas para valores que não estão presentes na amostra de dados utilizada para estimar o modelo."
   ]
  },
  {
   "cell_type": "markdown",
   "metadata": {},
   "source": [
    "---"
   ]
  }
 ],
 "metadata": {
  "kernelspec": {
   "display_name": "Python 3 (ipykernel)",
   "language": "python",
   "name": "python3"
  },
  "language_info": {
   "codemirror_mode": {
    "name": "ipython",
    "version": 3
   },
   "file_extension": ".py",
   "mimetype": "text/x-python",
   "name": "python",
   "nbconvert_exporter": "python",
   "pygments_lexer": "ipython3",
   "version": "3.9.13"
  },
  "toc": {
   "base_numbering": 1,
   "nav_menu": {},
   "number_sections": true,
   "sideBar": true,
   "skip_h1_title": true,
   "title_cell": "Índice",
   "title_sidebar": "Conteúdo",
   "toc_cell": false,
   "toc_position": {},
   "toc_section_display": true,
   "toc_window_display": false
  },
  "varInspector": {
   "cols": {
    "lenName": 16,
    "lenType": 16,
    "lenVar": 40
   },
   "kernels_config": {
    "python": {
     "delete_cmd_postfix": "",
     "delete_cmd_prefix": "del ",
     "library": "var_list.py",
     "varRefreshCmd": "print(var_dic_list())"
    },
    "r": {
     "delete_cmd_postfix": ") ",
     "delete_cmd_prefix": "rm(",
     "library": "var_list.r",
     "varRefreshCmd": "cat(var_dic_list()) "
    }
   },
   "types_to_exclude": [
    "module",
    "function",
    "builtin_function_or_method",
    "instance",
    "_Feature"
   ],
   "window_display": false
  }
 },
 "nbformat": 4,
 "nbformat_minor": 4
}
