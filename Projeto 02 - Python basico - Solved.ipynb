{
 "cells": [
  {
   "cell_type": "markdown",
   "metadata": {},
   "source": [
    "# Tarefa 01\n",
    "\n",
    "- Leia os enunciados com atenção\n",
    "- Saiba que pode haver mais de uma resposta correta\n",
    "- Insira novas células de código sempre que achar necessário\n",
    "- Em caso de dúvidas, procure os tutores\n",
    "- Divirta-se :)"
   ]
  },
  {
   "cell_type": "markdown",
   "metadata": {},
   "source": [
    "### 01 - Teste de gravidez\n",
    "Escreva uma célula com controle de fluxos que tem como premissa a existência das seguintes variáveis:\n",
    "\n",
    "- ```sexo``` como ```str``` indicando os valores '**M**' para masculino e '**F**' para feminino  \n",
    "- ```beta_hcg``` que indica a quantidade do beta-HCG no sangue em mUI/mL.\n",
    "\n",
    "A sua tarefa é escrever um código que imprima como resultado \"indivíduo do sexo masculino\" quando sexo = 'M', caso sexo = 'F', se o valor de beta-HCG for maior que 5, retorne \"Positivo\" indicando que a paciente está grávida, e retorne \"Negativo\" caso contrário.\n",
    "\n",
    "Não mexa nos valores da variável ```sexo``` nem em ```beta_hcg```, e escreva um código que funcione para quaisquer valores possíveis de ambos: ```sexo``` = '**M**' ou '**F**' e ```beta_hcg``` assumindo valores inteiros positivos."
   ]
  },
  {
   "cell_type": "code",
   "execution_count": null,
   "metadata": {},
   "outputs": [],
   "source": [
    "#Ref_ebac\n",
    "sexo = 'M'\n",
    "beta_hcg = 0\n",
    "\n",
    "# seu código vem abaixo desta linha"
   ]
  },
  {
   "cell_type": "code",
   "execution_count": 218,
   "metadata": {},
   "outputs": [
    {
     "name": "stdout",
     "output_type": "stream",
     "text": [
      "indivíduo do sexo Masculino\n",
      "Negativo, o valor do beta hcg é de: 0\n"
     ]
    }
   ],
   "source": [
    "#Validação base beta hcg negativo sexo masculino\n",
    "sexo = 'M'\n",
    "beta_hcg = [0]\n",
    "\n",
    "if sexo == 'M':\n",
    "    print('indivíduo do sexo Masculino')\n",
    "elif sexo == 'F':\n",
    "    print('indivíduo do sexo Feminino') \n",
    "\n",
    "for valor_beta_hcg in beta_hcg:\n",
    "    if beta_hcg >= [5]:\n",
    "        print(f'Positivo, o valor do beta hcg é de: {valor_beta_hcg}')\n",
    "    else: beta_hcg <= [5]\n",
    "    print(f'Negativo, o valor do beta hcg é de: {valor_beta_hcg}')"
   ]
  },
  {
   "cell_type": "code",
   "execution_count": 219,
   "metadata": {},
   "outputs": [
    {
     "name": "stdout",
     "output_type": "stream",
     "text": [
      "indivíduo do sexo Feminino\n",
      "Positivo, o valor do beta hcg é de: 7\n"
     ]
    }
   ],
   "source": [
    "#Validação base beta hcg positivo sexo femino\n",
    "\n",
    "sexo = 'F'\n",
    "beta_hcg = [7]\n",
    "\n",
    "if sexo == 'M':\n",
    "    print('indivíduo do sexo Masculino')\n",
    "elif sexo == 'F':\n",
    "    print('indivíduo do sexo Feminino') \n",
    "\n",
    "for valor_beta_hcg in beta_hcg:\n",
    "    if beta_hcg >= [5]:\n",
    "        print(f'Positivo, o valor do beta hcg é de: {valor_beta_hcg}')\n",
    "    elif beta_hcg <= [5]:\n",
    "        print(f'Negativo, o valor do beta hcg é de: {valor_beta_hcg}')"
   ]
  },
  {
   "cell_type": "markdown",
   "metadata": {},
   "source": [
    "### 02 - Renomeando variáveis\n",
    "\n",
    "Vamos ver adiante que uma forma de renomear variáveis de um conjunto de dados é através de dicionários - o dicionário deve conter como chave o nome original, associando a cada chave um único valor (tipo *str*) que contenha o nome novo.\n",
    "\n",
    "A sua tarefa é escrever um dicionário que possa ser utilizado para traduzir as variáveis ```name``` (nome), ```age``` (idade) e ```income``` (renda). Ou seja, esse dicionário deve relacionar as chaves *name, age* e *income* às suas respectivas traduções."
   ]
  },
  {
   "cell_type": "code",
   "execution_count": null,
   "metadata": {},
   "outputs": [],
   "source": [
    "#Ref_ebac\n",
    "dic_renomeacao = {'': ''}\n",
    "dic_renomeacao"
   ]
  },
  {
   "cell_type": "code",
   "execution_count": 220,
   "metadata": {},
   "outputs": [
    {
     "name": "stdout",
     "output_type": "stream",
     "text": [
      "Name = Nome\n",
      "Age = Idade\n",
      "Income = Renda\n"
     ]
    }
   ],
   "source": [
    "#Cod_1\n",
    "dic_renomeacao = {'Name': 'Nome', 'Age': 'Idade', 'Income': 'Renda'}\n",
    "for base, traducao in dic_renomeacao.items ():\n",
    "    print (f'{base} = {traducao}')"
   ]
  },
  {
   "cell_type": "markdown",
   "metadata": {},
   "source": [
    "### 03 - É divisível?\n",
    "A sua tarefa é escrever um código que indique se um número ```N``` é divisível por um número P. Escreva um programa que faça essa verificação para quaisquer combinações de ```N``` e ```M``` e devolva uma mensagem indicativa no output."
   ]
  },
  {
   "cell_type": "code",
   "execution_count": null,
   "metadata": {},
   "outputs": [],
   "source": [
    "#Ref_Ebac\n",
    "N = 42\n",
    "M = 7\n",
    "\n",
    "#Seu código\n"
   ]
  },
  {
   "cell_type": "code",
   "execution_count": 221,
   "metadata": {},
   "outputs": [
    {
     "name": "stdout",
     "output_type": "stream",
     "text": [
      "O numéro 7 é divisor de [42, 7]\n"
     ]
    }
   ],
   "source": [
    "#Cod_1\n",
    "lista = [42,7]\n",
    "lista_É_divisor = []\n",
    "P = 7\n",
    "\n",
    "for x in lista:\n",
    "    if x % P == 0:\n",
    "        lista_É_divisor.append(x)\n",
    "print(f\"O numéro {P} é divisor de {lista_É_divisor}\")"
   ]
  },
  {
   "cell_type": "markdown",
   "metadata": {},
   "source": [
    "### 04 - Números primos\n",
    "> Um número **N** é primo se e somente se é divisível por 1, -1, por **N** e por -**N**.  \n",
    "\n",
    "Escreva um script que verifica se ```N``` é um número primo, verificando se ```N``` é divisível por todos os números de ```1``` a ```N-1```. Você vai precisar usar alguma ferramenta de *loop* que você aprendeu para isto. No final, devolva uma mensagem no output indicando se o número é primo ou não."
   ]
  },
  {
   "cell_type": "code",
   "execution_count": null,
   "metadata": {},
   "outputs": [],
   "source": [
    "#Ref_ebac\n",
    "N = 47\n",
    "\n",
    "# seu código abaixo\n"
   ]
  },
  {
   "cell_type": "code",
   "execution_count": 222,
   "metadata": {},
   "outputs": [
    {
     "name": "stdout",
     "output_type": "stream",
     "text": [
      "O numero 47 é primo\n"
     ]
    }
   ],
   "source": [
    "#cod_1\n",
    "N = 47\n",
    "\n",
    "def s_primo(n):\n",
    "\n",
    "    for x in range (2, N):\n",
    "        if N % x == 0:\n",
    "            return False\n",
    "    else:\n",
    "        return True\n",
    "\n",
    "if s_primo(N):\n",
    "    print(f'O numero {N} é primo')\n",
    "else:\n",
    "    print(f'O numero {N} não é primo')"
   ]
  },
  {
   "cell_type": "markdown",
   "metadata": {},
   "source": [
    "### 05 - Desafio\n",
    "O algorítmo do exercício anterior não é o mais eficiente. O que você pode fazer para deixá-lo mais eficiente? Ou seja, executar menos comparações, portanto consumir menos tempo.\n",
    "1. Será que precisamos correr o loop até o final sempre?\n",
    "2. Será que precisamos mesmo verificar **todos** os números?\n",
    "3. Será que precisamos ir até N-1?\n",
    "\n",
    "Essas perguntas levam ao tipo de pensamento voltado a deixar um algoritmo mais eficiente. Veja se você consegue melhorar o seu."
   ]
  },
  {
   "cell_type": "code",
   "execution_count": 223,
   "metadata": {},
   "outputs": [
    {
     "name": "stdout",
     "output_type": "stream",
     "text": [
      "O numero 98 não é primo\n"
     ]
    }
   ],
   "source": [
    "N = 98\n",
    "\n",
    "# seu código aqui\n",
    "#obs: Creio que este é o maximo de eficiencia que consegui extrair deste algoritmo, mesmo imput do exercicio 4\n",
    "\n",
    "def s_primo(n):\n",
    "\n",
    "    for x in range (2, N):\n",
    "        if N % x == 0:\n",
    "            return False\n",
    "    else:\n",
    "        return True\n",
    "\n",
    "if s_primo(N):\n",
    "    print(f'O numero {N} é primo')\n",
    "else:\n",
    "    print(f'O numero {N} não é primo')\n"
   ]
  },
  {
   "cell_type": "markdown",
   "metadata": {},
   "source": [
    "### 06 - Peso ideal 1\n",
    "O IMC (índice de massa corpórea) é um indicador de saúde mais bem aceito que o peso. Ele é calculado como:\n",
    "\n",
    "$$ IMC = \\dfrac{peso}{altura^2}$$\n",
    "\n",
    "Segundo a OMS, valores *normais* são entre 18.5 e 24.9.\n",
    "\n",
    "Sua tarefa é encontrar o ponto médio dessa faixa."
   ]
  },
  {
   "cell_type": "code",
   "execution_count": null,
   "metadata": {},
   "outputs": [],
   "source": [
    "#Ref_ebac\n",
    "imc_ideal = \n",
    "imc_ideal"
   ]
  },
  {
   "cell_type": "code",
   "execution_count": 224,
   "metadata": {},
   "outputs": [
    {
     "name": "stdout",
     "output_type": "stream",
     "text": [
      "A média de imc informado é: 21.7\n"
     ]
    }
   ],
   "source": [
    "#Cod_1\n",
    "#Import de estatisticas\n",
    "import statistics\n",
    "imc_ideal = [18.5, 24.9]\n",
    "lista_media = statistics.median(imc_ideal)\n",
    "print (f'A média de imc informado é: {lista_media}')"
   ]
  },
  {
   "cell_type": "markdown",
   "metadata": {},
   "source": [
    "### 07 - Peso ideal 2\n",
    "Recebendo um valor de altura, encontre o peso '*ideal*' dessa pessoa, que fornece o IMC encontrado acima"
   ]
  },
  {
   "cell_type": "code",
   "execution_count": null,
   "metadata": {},
   "outputs": [],
   "source": [
    "#Ref_ebac\n",
    "altura = 1.70\n",
    "\n",
    "# Seu código\n",
    "peso_ideal = \n",
    "peso_ideal"
   ]
  },
  {
   "cell_type": "code",
   "execution_count": 225,
   "metadata": {},
   "outputs": [
    {
     "name": "stdout",
     "output_type": "stream",
     "text": [
      "O peso ideal é: 62.71\n"
     ]
    }
   ],
   "source": [
    "#Cod_1\n",
    "altura = 1.70\n",
    "lista_media = lista_media\n",
    "\n",
    "peso_ideal = lista_media * (altura)**2\n",
    "print (f'O peso ideal é: {round (peso_ideal,2)}')\n"
   ]
  },
  {
   "cell_type": "markdown",
   "metadata": {},
   "source": [
    "### 08 - Peso ideal 3\n",
    "Dada uma lista contendo as alturas de pacientes, crie uma nova lista que contenha o peso '*ideal*' (que fornece o IMC calculado em **Peso ideal 1**) desses pacientes."
   ]
  },
  {
   "cell_type": "code",
   "execution_count": null,
   "metadata": {},
   "outputs": [],
   "source": [
    "#Ref_ebac\n",
    "lista_alturas = [1.95, 2.05, 1.70, 1.65]\n",
    "\n",
    "lista_peso_ideal = []\n",
    "\n",
    "# seu código\n",
    "\n",
    "\n",
    "lista_peso_ideal"
   ]
  },
  {
   "cell_type": "code",
   "execution_count": 226,
   "metadata": {},
   "outputs": [
    {
     "data": {
      "text/plain": [
       "[82.51, 91.19, 62.71, 59.08]"
      ]
     },
     "execution_count": 226,
     "metadata": {},
     "output_type": "execute_result"
    }
   ],
   "source": [
    "#Cod_1\n",
    "\n",
    "#Ref_ebac\n",
    "lista_alturas = [1.95, 2.05, 1.70, 1.65]\n",
    "lista_peso_ideal = []\n",
    "\n",
    "for x in lista_alturas:\n",
    "    peso_ideal = lista_media * (x)**2\n",
    "    lista_peso_ideal.append(round(peso_ideal,2))\n",
    "\n",
    "lista_peso_ideal"
   ]
  },
  {
   "cell_type": "markdown",
   "metadata": {},
   "source": [
    "### 09 - Peso ideal 4\n",
    "Dada uma lista de tuplas - cada elemento da lista é uma tupla contendo altura e peso de um paciente - crie uma nova lista com o IMC desses pacientes."
   ]
  },
  {
   "cell_type": "code",
   "execution_count": null,
   "metadata": {},
   "outputs": [],
   "source": [
    "#ref_ebac\n",
    "altura_peso = [(1.80, 90), (1.65, 75), (1.91, 70)]\n",
    "\n",
    "imc = []\n",
    "\n",
    "# seu código\n",
    "\n",
    "imc"
   ]
  },
  {
   "cell_type": "code",
   "execution_count": 227,
   "metadata": {},
   "outputs": [
    {
     "data": {
      "text/plain": [
       "[27.78, 27.55, 19.19]"
      ]
     },
     "execution_count": 227,
     "metadata": {},
     "output_type": "execute_result"
    }
   ],
   "source": [
    "#Cod_1\n",
    "altura_peso = [(1.80, 90), (1.65, 75), (1.91, 70)]\n",
    "imc = []\n",
    "\n",
    "for x in altura_peso:\n",
    "    y = x[1]\n",
    "    x = y / (x[0])**2\n",
    "    imc.append(round(x,2))\n",
    "\n",
    "imc"
   ]
  },
  {
   "cell_type": "markdown",
   "metadata": {},
   "source": [
    "### 10 - Peso ideal 5\n",
    "Dada uma lista de **listas** - cada elemento da lista é uma **lista** contendo altura e peso de um paciente, adicione mais um elemento à lista de cada paciente contendo o IMC do paciente. Verifique também se é 'baixo', 'normal' ou 'alto' segundo os padrões da OMS em que normal é entre 18.5 e 24.9.\n",
    "\n",
    "Reflexão: por que no problema anterior temos que criar uma nova lista, e não podemos adicionar os dados de cada indivíduo à tupla?"
   ]
  },
  {
   "cell_type": "code",
   "execution_count": null,
   "metadata": {},
   "outputs": [],
   "source": [
    "#Ref_ebac\n",
    "altura_peso = [[1.80, 90], [1.65, 75], [1.91, 70]]\n",
    "\n",
    "# seu código\n",
    "\n",
    "altura_peso"
   ]
  },
  {
   "cell_type": "code",
   "execution_count": 228,
   "metadata": {},
   "outputs": [
    {
     "data": {
      "text/plain": [
       "[[1.8, 90, 27.78], [1.65, 75, 27.55], [1.91, 70, 19.19]]"
      ]
     },
     "execution_count": 228,
     "metadata": {},
     "output_type": "execute_result"
    }
   ],
   "source": [
    "#Cod_1\n",
    "altura_peso = [[1.80, 90], [1.65, 75], [1.91, 70]]\n",
    "lista = [27.78, 27.55, 19.19] #lista gerada no insight 9\n",
    "\n",
    "for x in range (len(altura_peso)):\n",
    "    altura_peso [x].append(lista[x])\n",
    "\n",
    "altura_peso\n"
   ]
  },
  {
   "cell_type": "markdown",
   "metadata": {},
   "source": [
    "### Reflexão: por que no problema anterior temos que criar uma nova lista, e não podemos adicionar os dados de cada indivíduo à tupla?\n",
    "Resposta: Fazemos a criação de uma nova lista pois os elementos e valores não podem ser alterados após a criação de uma tupla"
   ]
  },
  {
   "cell_type": "code",
   "execution_count": 229,
   "metadata": {},
   "outputs": [
    {
     "name": "stdout",
     "output_type": "stream",
     "text": [
      "[1.8, 90, 27.78, 'alto']\n",
      "[1.65, 75, 27.55, 'alto']\n",
      "[1.91, 70, 19.19, 'normal']\n",
      "None\n"
     ]
    }
   ],
   "source": [
    "altura_peso = [[1.8, 90, 27.78], [1.65, 75, 27.55], [1.91, 70, 19.19]] #resultado ultimo insight\n",
    "\n",
    "for x in range(len(altura_peso)):\n",
    "    if altura_peso[x][2] > 24.9:\n",
    "        print([altura_peso[x][0], altura_peso[x][1], altura_peso[x][2], \"alto\"])\n",
    "    elif altura_peso[x][2] < 18.5:\n",
    "        print([altura_peso[i][0], altura_peso[x][1], altura_peso[x][2], \"baixo\"])\n",
    "    else:\n",
    "        print( print([altura_peso[x][0], altura_peso[x][1], altura_peso[x][2], \"normal\"]))        "
   ]
  }
 ],
 "metadata": {
  "kernelspec": {
   "display_name": "Python 3",
   "language": "python",
   "name": "python3"
  },
  "language_info": {
   "codemirror_mode": {
    "name": "ipython",
    "version": 3
   },
   "file_extension": ".py",
   "mimetype": "text/x-python",
   "name": "python",
   "nbconvert_exporter": "python",
   "pygments_lexer": "ipython3",
   "version": "3.11.6"
  }
 },
 "nbformat": 4,
 "nbformat_minor": 4
}
